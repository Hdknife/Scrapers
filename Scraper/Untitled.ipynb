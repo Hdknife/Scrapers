{
 "cells": [
  {
   "cell_type": "code",
   "execution_count": 4,
   "id": "8f7899a8-1842-4f17-b1f2-12b35071146c",
   "metadata": {},
   "outputs": [],
   "source": [
    "import requests as rs\n",
    "from bs4 import BeautifulSoup as bs"
   ]
  },
  {
   "cell_type": "code",
   "execution_count": 6,
   "id": "2c4a6254-9534-4f6b-b0fb-aafda207626d",
   "metadata": {},
   "outputs": [],
   "source": [
    "url = \"https://www.bea.gov/data/gdp\""
   ]
  },
  {
   "cell_type": "code",
   "execution_count": 7,
   "id": "83a2b33a-06a8-4d7d-877a-6d77e96c0b10",
   "metadata": {},
   "outputs": [],
   "source": [
    "respond = rs.get(url)"
   ]
  },
  {
   "cell_type": "code",
   "execution_count": 10,
   "id": "cbe1882c-7c45-4a6d-8527-f82d895892f7",
   "metadata": {},
   "outputs": [],
   "source": [
    "soup = bs(respond.content)"
   ]
  },
  {
   "cell_type": "code",
   "execution_count": 13,
   "id": "e2bd2f9a-0f1c-47b8-800b-a82c646950f3",
   "metadata": {},
   "outputs": [],
   "source": [
    "u = soup.find_all('ul',class_='list-group custom-data-menu-results')"
   ]
  },
  {
   "cell_type": "code",
   "execution_count": 24,
   "id": "e6ac0abf-94d2-43da-a22f-e98b5541b358",
   "metadata": {},
   "outputs": [
    {
     "name": "stdout",
     "output_type": "stream",
     "text": [
      "None\n"
     ]
    }
   ],
   "source": [
    "for i in u:\n",
    "    print(i.get('a'))"
   ]
  },
  {
   "cell_type": "code",
   "execution_count": null,
   "id": "cc034342-5f63-407f-ad87-6be2608e4eee",
   "metadata": {},
   "outputs": [],
   "source": []
  }
 ],
 "metadata": {
  "kernelspec": {
   "display_name": "Python 3 (ipykernel)",
   "language": "python",
   "name": "python3"
  },
  "language_info": {
   "codemirror_mode": {
    "name": "ipython",
    "version": 3
   },
   "file_extension": ".py",
   "mimetype": "text/x-python",
   "name": "python",
   "nbconvert_exporter": "python",
   "pygments_lexer": "ipython3",
   "version": "3.11.4"
  }
 },
 "nbformat": 4,
 "nbformat_minor": 5
}
